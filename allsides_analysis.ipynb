{
  "nbformat": 4,
  "nbformat_minor": 0,
  "metadata": {
    "colab": {
      "name": "allsides_analysis.ipynb",
      "version": "0.3.2",
      "provenance": [],
      "collapsed_sections": [],
      "toc_visible": true,
      "include_colab_link": true
    },
    "kernelspec": {
      "name": "python3",
      "display_name": "Python 3"
    }
  },
  "cells": [
    {
      "cell_type": "markdown",
      "metadata": {
        "id": "view-in-github",
        "colab_type": "text"
      },
      "source": [
        "<a href=\"https://colab.research.google.com/github/vitorqueijo/AllsidesAnalysis/blob/master/allsides_analysis.ipynb\" target=\"_parent\"><img src=\"https://colab.research.google.com/assets/colab-badge.svg\" alt=\"Open In Colab\"/></a>"
      ]
    },
    {
      "cell_type": "markdown",
      "metadata": {
        "id": "9yWZkIsg82xZ",
        "colab_type": "text"
      },
      "source": [
        "##Multiple regression analysis of newspaper's political bias (Allsides's dataset)\n",
        "####by Vítor Queijo, Science and Technology graduation student"
      ]
    },
    {
      "cell_type": "code",
      "metadata": {
        "id": "qjA5tSbM-uF9",
        "colab_type": "code",
        "colab": {}
      },
      "source": [
        "import pandas as pd #import pandas library for dataframe\n",
        "import numpy as np #linear algebra tool\n",
        "import matplotlib.pyplot as plt \n",
        "import seaborn as sns #data visualization"
      ],
      "execution_count": 0,
      "outputs": []
    },
    {
      "cell_type": "code",
      "metadata": {
        "id": "Sn_TWP5NBpCJ",
        "colab_type": "code",
        "outputId": "52928e2a-3a0d-498c-c65e-d9fc18b4527f",
        "colab": {
          "base_uri": "https://localhost:8080/",
          "height": 206
        }
      },
      "source": [
        "data = pd.read_csv('allsides.csv')\n",
        "data.head()"
      ],
      "execution_count": 265,
      "outputs": [
        {
          "output_type": "execute_result",
          "data": {
            "text/html": [
              "<div>\n",
              "<style scoped>\n",
              "    .dataframe tbody tr th:only-of-type {\n",
              "        vertical-align: middle;\n",
              "    }\n",
              "\n",
              "    .dataframe tbody tr th {\n",
              "        vertical-align: top;\n",
              "    }\n",
              "\n",
              "    .dataframe thead th {\n",
              "        text-align: right;\n",
              "    }\n",
              "</style>\n",
              "<table border=\"1\" class=\"dataframe\">\n",
              "  <thead>\n",
              "    <tr style=\"text-align: right;\">\n",
              "      <th></th>\n",
              "      <th>agree</th>\n",
              "      <th>agree_ratio</th>\n",
              "      <th>agreeance_text</th>\n",
              "      <th>allsides_page</th>\n",
              "      <th>bias</th>\n",
              "      <th>disagree</th>\n",
              "      <th>name</th>\n",
              "      <th>total_votes</th>\n",
              "    </tr>\n",
              "  </thead>\n",
              "  <tbody>\n",
              "    <tr>\n",
              "      <th>0</th>\n",
              "      <td>11169</td>\n",
              "      <td>1.362073</td>\n",
              "      <td>Somewhat Agrees</td>\n",
              "      <td>https://www.allsides.com/news-source/abc-news-...</td>\n",
              "      <td>left-center</td>\n",
              "      <td>8200</td>\n",
              "      <td>ABC News</td>\n",
              "      <td>19369</td>\n",
              "    </tr>\n",
              "    <tr>\n",
              "      <th>1</th>\n",
              "      <td>3225</td>\n",
              "      <td>0.650202</td>\n",
              "      <td>Disagrees</td>\n",
              "      <td>https://www.allsides.com/news-source/al-jazeer...</td>\n",
              "      <td>center</td>\n",
              "      <td>4960</td>\n",
              "      <td>Al Jazeera</td>\n",
              "      <td>8185</td>\n",
              "    </tr>\n",
              "    <tr>\n",
              "      <th>2</th>\n",
              "      <td>3138</td>\n",
              "      <td>2.595533</td>\n",
              "      <td>Strongly Agrees</td>\n",
              "      <td>https://www.allsides.com/news-source/allsides-0</td>\n",
              "      <td>allsides</td>\n",
              "      <td>1209</td>\n",
              "      <td>AllSides</td>\n",
              "      <td>4347</td>\n",
              "    </tr>\n",
              "    <tr>\n",
              "      <th>3</th>\n",
              "      <td>2032</td>\n",
              "      <td>1.673806</td>\n",
              "      <td>Agrees</td>\n",
              "      <td>https://www.allsides.com/news-source/allsides-...</td>\n",
              "      <td>allsides</td>\n",
              "      <td>1214</td>\n",
              "      <td>AllSides Community</td>\n",
              "      <td>3246</td>\n",
              "    </tr>\n",
              "    <tr>\n",
              "      <th>4</th>\n",
              "      <td>2064</td>\n",
              "      <td>2.898876</td>\n",
              "      <td>Strongly Agrees</td>\n",
              "      <td>https://www.allsides.com/news-source/alternet</td>\n",
              "      <td>left</td>\n",
              "      <td>712</td>\n",
              "      <td>AlterNet</td>\n",
              "      <td>2776</td>\n",
              "    </tr>\n",
              "  </tbody>\n",
              "</table>\n",
              "</div>"
            ],
            "text/plain": [
              "   agree  agree_ratio  ...                name total_votes\n",
              "0  11169     1.362073  ...            ABC News       19369\n",
              "1   3225     0.650202  ...          Al Jazeera        8185\n",
              "2   3138     2.595533  ...            AllSides        4347\n",
              "3   2032     1.673806  ...  AllSides Community        3246\n",
              "4   2064     2.898876  ...            AlterNet        2776\n",
              "\n",
              "[5 rows x 8 columns]"
            ]
          },
          "metadata": {
            "tags": []
          },
          "execution_count": 265
        }
      ]
    },
    {
      "cell_type": "code",
      "metadata": {
        "id": "M3FeNKEVCDdf",
        "colab_type": "code",
        "outputId": "054d1537-a757-4cef-d48a-3cb3766f0869",
        "colab": {
          "base_uri": "https://localhost:8080/",
          "height": 34
        }
      },
      "source": [
        "data.shape"
      ],
      "execution_count": 266,
      "outputs": [
        {
          "output_type": "execute_result",
          "data": {
            "text/plain": [
              "(274, 8)"
            ]
          },
          "metadata": {
            "tags": []
          },
          "execution_count": 266
        }
      ]
    },
    {
      "cell_type": "code",
      "metadata": {
        "id": "IKApq0FgHFlY",
        "colab_type": "code",
        "outputId": "bf5af149-64b0-40a3-fcfc-227edede2797",
        "colab": {
          "base_uri": "https://localhost:8080/",
          "height": 243
        }
      },
      "source": [
        "data.info()"
      ],
      "execution_count": 267,
      "outputs": [
        {
          "output_type": "stream",
          "text": [
            "<class 'pandas.core.frame.DataFrame'>\n",
            "RangeIndex: 274 entries, 0 to 273\n",
            "Data columns (total 8 columns):\n",
            "agree             274 non-null int64\n",
            "agree_ratio       274 non-null float64\n",
            "agreeance_text    274 non-null object\n",
            "allsides_page     274 non-null object\n",
            "bias              274 non-null object\n",
            "disagree          274 non-null int64\n",
            "name              274 non-null object\n",
            "total_votes       274 non-null int64\n",
            "dtypes: float64(1), int64(3), object(4)\n",
            "memory usage: 17.2+ KB\n"
          ],
          "name": "stdout"
        }
      ]
    },
    {
      "cell_type": "markdown",
      "metadata": {
        "id": "CO7_2B68Dh4n",
        "colab_type": "text"
      },
      "source": [
        "### First, we need to understand the correlation between bias and agreeance."
      ]
    },
    {
      "cell_type": "code",
      "metadata": {
        "id": "KxdZ69QwKfEw",
        "colab_type": "code",
        "outputId": "7d096273-ac5a-43d1-f78e-567c102bc6f7",
        "colab": {
          "base_uri": "https://localhost:8080/",
          "height": 69
        }
      },
      "source": [
        "data.agreeance_text.unique()"
      ],
      "execution_count": 268,
      "outputs": [
        {
          "output_type": "execute_result",
          "data": {
            "text/plain": [
              "array(['Somewhat Agrees', 'Disagrees', 'Strongly Agrees', 'Agrees',\n",
              "       'Somewhat Disagrees', 'Absolutely Agrees', 'Strongly Disagrees',\n",
              "       'Neutral'], dtype=object)"
            ]
          },
          "metadata": {
            "tags": []
          },
          "execution_count": 268
        }
      ]
    },
    {
      "cell_type": "code",
      "metadata": {
        "id": "kO7R4iMbLAMh",
        "colab_type": "code",
        "colab": {}
      },
      "source": [
        "dict_agree = {\n",
        "    'Somewhat Agrees' : 1,\n",
        "    'Disagrees' : -2,\n",
        "    'Strongly Agrees' : 3,\n",
        "    'Agrees' : 2,\n",
        "    'Somewhat Disagrees' : -1,\n",
        "    'Absolutely Agrees' : 4,\n",
        "    'Strongly Disagrees' : -3,\n",
        "    'Neutral' : 0\n",
        "}"
      ],
      "execution_count": 0,
      "outputs": []
    },
    {
      "cell_type": "code",
      "metadata": {
        "id": "WebH4rm6FTF1",
        "colab_type": "code",
        "outputId": "724b84c3-b8d2-456f-8265-fdfaf3d23130",
        "colab": {
          "base_uri": "https://localhost:8080/",
          "height": 206
        }
      },
      "source": [
        "data_agree_degree = data.replace({\"agreeance_text\" : dict_agree})\n",
        "data_agree_degree.head()"
      ],
      "execution_count": 270,
      "outputs": [
        {
          "output_type": "execute_result",
          "data": {
            "text/html": [
              "<div>\n",
              "<style scoped>\n",
              "    .dataframe tbody tr th:only-of-type {\n",
              "        vertical-align: middle;\n",
              "    }\n",
              "\n",
              "    .dataframe tbody tr th {\n",
              "        vertical-align: top;\n",
              "    }\n",
              "\n",
              "    .dataframe thead th {\n",
              "        text-align: right;\n",
              "    }\n",
              "</style>\n",
              "<table border=\"1\" class=\"dataframe\">\n",
              "  <thead>\n",
              "    <tr style=\"text-align: right;\">\n",
              "      <th></th>\n",
              "      <th>agree</th>\n",
              "      <th>agree_ratio</th>\n",
              "      <th>agreeance_text</th>\n",
              "      <th>allsides_page</th>\n",
              "      <th>bias</th>\n",
              "      <th>disagree</th>\n",
              "      <th>name</th>\n",
              "      <th>total_votes</th>\n",
              "    </tr>\n",
              "  </thead>\n",
              "  <tbody>\n",
              "    <tr>\n",
              "      <th>0</th>\n",
              "      <td>11169</td>\n",
              "      <td>1.362073</td>\n",
              "      <td>1</td>\n",
              "      <td>https://www.allsides.com/news-source/abc-news-...</td>\n",
              "      <td>left-center</td>\n",
              "      <td>8200</td>\n",
              "      <td>ABC News</td>\n",
              "      <td>19369</td>\n",
              "    </tr>\n",
              "    <tr>\n",
              "      <th>1</th>\n",
              "      <td>3225</td>\n",
              "      <td>0.650202</td>\n",
              "      <td>-2</td>\n",
              "      <td>https://www.allsides.com/news-source/al-jazeer...</td>\n",
              "      <td>center</td>\n",
              "      <td>4960</td>\n",
              "      <td>Al Jazeera</td>\n",
              "      <td>8185</td>\n",
              "    </tr>\n",
              "    <tr>\n",
              "      <th>2</th>\n",
              "      <td>3138</td>\n",
              "      <td>2.595533</td>\n",
              "      <td>3</td>\n",
              "      <td>https://www.allsides.com/news-source/allsides-0</td>\n",
              "      <td>allsides</td>\n",
              "      <td>1209</td>\n",
              "      <td>AllSides</td>\n",
              "      <td>4347</td>\n",
              "    </tr>\n",
              "    <tr>\n",
              "      <th>3</th>\n",
              "      <td>2032</td>\n",
              "      <td>1.673806</td>\n",
              "      <td>2</td>\n",
              "      <td>https://www.allsides.com/news-source/allsides-...</td>\n",
              "      <td>allsides</td>\n",
              "      <td>1214</td>\n",
              "      <td>AllSides Community</td>\n",
              "      <td>3246</td>\n",
              "    </tr>\n",
              "    <tr>\n",
              "      <th>4</th>\n",
              "      <td>2064</td>\n",
              "      <td>2.898876</td>\n",
              "      <td>3</td>\n",
              "      <td>https://www.allsides.com/news-source/alternet</td>\n",
              "      <td>left</td>\n",
              "      <td>712</td>\n",
              "      <td>AlterNet</td>\n",
              "      <td>2776</td>\n",
              "    </tr>\n",
              "  </tbody>\n",
              "</table>\n",
              "</div>"
            ],
            "text/plain": [
              "   agree  agree_ratio  ...                name total_votes\n",
              "0  11169     1.362073  ...            ABC News       19369\n",
              "1   3225     0.650202  ...          Al Jazeera        8185\n",
              "2   3138     2.595533  ...            AllSides        4347\n",
              "3   2032     1.673806  ...  AllSides Community        3246\n",
              "4   2064     2.898876  ...            AlterNet        2776\n",
              "\n",
              "[5 rows x 8 columns]"
            ]
          },
          "metadata": {
            "tags": []
          },
          "execution_count": 270
        }
      ]
    },
    {
      "cell_type": "code",
      "metadata": {
        "id": "nojSo7g3NIkZ",
        "colab_type": "code",
        "outputId": "951b1749-e7e9-4b27-a7f5-dcf166f5a045",
        "colab": {
          "base_uri": "https://localhost:8080/",
          "height": 291
        }
      },
      "source": [
        "agreeance_y = data_agree_degree['agreeance_text']\n",
        "bias_x = data_agree_degree['bias']\n",
        "categorical_axis =  sns.boxplot(x= bias_x, y=agreeance_y )"
      ],
      "execution_count": 271,
      "outputs": [
        {
          "output_type": "display_data",
          "data": {
            "image/png": "[encoded data removed]",
            "text/plain": [
              "<Figure size 432x288 with 1 Axes>"
            ]
          },
          "metadata": {
            "tags": []
          }
        }
      ]
    },
    {
      "cell_type": "markdown",
      "metadata": {
        "id": "OcjdakzOQgx9",
        "colab_type": "text"
      },
      "source": [
        "### In the boxplot above, it seems that extreme bias tends to be confirmed more often by the public's judgement, meanwhile centrist's views are unconfirmed by them. Hence, it raises the first premises: the more agree's ratio from a newspaper increase it's more likely that it has an extreme bias."
      ]
    },
    {
      "cell_type": "code",
      "metadata": {
        "id": "KEPLsSyutuRj",
        "colab_type": "code",
        "colab": {}
      },
      "source": [
        "data_leftvotes = data.query(\"bias=='left'\").total_votes\n",
        "data_rightvotes = data.query(\"bias=='right'\").total_votes"
      ],
      "execution_count": 0,
      "outputs": []
    },
    {
      "cell_type": "code",
      "metadata": {
        "id": "PlgU023e5K1f",
        "colab_type": "code",
        "colab": {}
      },
      "source": [
        "data_left = data_agree_degree.query(\"bias=='left'\").agreeance_text\n",
        "data_right = data_agree_degree.query(\"bias=='right'\").agreeance_text"
      ],
      "execution_count": 0,
      "outputs": []
    },
    {
      "cell_type": "code",
      "metadata": {
        "id": "BCy75e-D839y",
        "colab_type": "code",
        "outputId": "a8d84d90-8477-4f52-dac3-49e4efd49f21",
        "colab": {
          "base_uri": "https://localhost:8080/",
          "height": 471
        }
      },
      "source": [
        "sns.set(style=\"white\", palette=\"muted\", color_codes=True)\n",
        "f, axes = plt.subplots(2, 2, figsize=(7, 7), sharex=True)\n",
        "sns.despine(left=True)\n",
        "sns.distplot(data_left, kde=False, color=\"r\", ax=axes[0,0])\n",
        "sns.distplot(data_left, hist=False, rug=True, color=\"r\", ax=axes[0, 1])\n",
        "sns.distplot(data_left, hist=False, color=\"r\", kde_kws={\"shade\": True}, ax=axes[1, 0])\n",
        "sns.distplot(data_left, color=\"r\", ax=axes[1, 1])\n",
        "\n"
      ],
      "execution_count": 274,
      "outputs": [
        {
          "output_type": "execute_result",
          "data": {
            "text/plain": [
              "<matplotlib.axes._subplots.AxesSubplot at 0x7f45eb3f5cc0>"
            ]
          },
          "metadata": {
            "tags": []
          },
          "execution_count": 274
        },
        {
          "output_type": "display_data",
          "data": {
            "image/png": "[encoded data removed]",
            "text/plain": [
              "<Figure size 504x504 with 4 Axes>"
            ]
          },
          "metadata": {
            "tags": []
          }
        }
      ]
    },
    {
      "cell_type": "code",
      "metadata": {
        "id": "vQjPIv6eqQ4l",
        "colab_type": "code",
        "outputId": "c396605b-9ace-4754-a15d-f90b403cf3c4",
        "colab": {
          "base_uri": "https://localhost:8080/",
          "height": 471
        }
      },
      "source": [
        "sns.set(style=\"white\", palette=\"muted\", color_codes=True)\n",
        "f, axes = plt.subplots(2, 2, figsize=(7, 7), sharex=True)\n",
        "sns.despine(left=True)\n",
        "sns.distplot(data_right, kde=False, color=\"b\", ax=axes[0,0])\n",
        "sns.distplot(data_right, hist=False, rug=True, color=\"b\", ax=axes[0, 1])\n",
        "sns.distplot(data_right, hist=False, color=\"b\", kde_kws={\"shade\": True}, ax=axes[1, 0])\n",
        "sns.distplot(data_right, color=\"b\", ax=axes[1, 1])"
      ],
      "execution_count": 275,
      "outputs": [
        {
          "output_type": "execute_result",
          "data": {
            "text/plain": [
              "<matplotlib.axes._subplots.AxesSubplot at 0x7f45eb2b46a0>"
            ]
          },
          "metadata": {
            "tags": []
          },
          "execution_count": 275
        },
        {
          "output_type": "display_data",
          "data": {
            "image/png": "[encoded data removed]",
            "text/plain": [
              "<Figure size 504x504 with 4 Axes>"
            ]
          },
          "metadata": {
            "tags": []
          }
        }
      ]
    },
    {
      "cell_type": "markdown",
      "metadata": {
        "id": "1AOigMlaxyNL",
        "colab_type": "text"
      },
      "source": [
        "## The real multiple regression analysis"
      ]
    },
    {
      "cell_type": "markdown",
      "metadata": {
        "id": "NUIyHkyUDsqQ",
        "colab_type": "text"
      },
      "source": [
        "\n",
        "\n",
        "---\n",
        "\n",
        "\n",
        "### This article propose that if the extrem bias are frequently accompanied by an higher agree ratio, this regression's purpose is to prove that's probably predictble.\n",
        "\n",
        "\n",
        "---\n",
        "\n"
      ]
    },
    {
      "cell_type": "code",
      "metadata": {
        "id": "d6XJ2fJmx_sh",
        "colab_type": "code",
        "colab": {}
      },
      "source": [
        "biases = pd.get_dummies(data.bias, drop_first=True)\n",
        "y = data.agree_ratio\n",
        "data = data.drop(['bias','name','allsides_page','agreeance_text','agree_ratio'], axis=1)"
      ],
      "execution_count": 0,
      "outputs": []
    },
    {
      "cell_type": "code",
      "metadata": {
        "id": "5F2Jg63T2Bly",
        "colab_type": "code",
        "colab": {
          "base_uri": "https://localhost:8080/",
          "height": 206
        },
        "outputId": "7ac69c79-34c3-434d-e1cd-cae6fa7edfc7"
      },
      "source": [
        "data = pd.concat([data,biases], axis=1)\n",
        "data.head()"
      ],
      "execution_count": 277,
      "outputs": [
        {
          "output_type": "execute_result",
          "data": {
            "text/html": [
              "<div>\n",
              "<style scoped>\n",
              "    .dataframe tbody tr th:only-of-type {\n",
              "        vertical-align: middle;\n",
              "    }\n",
              "\n",
              "    .dataframe tbody tr th {\n",
              "        vertical-align: top;\n",
              "    }\n",
              "\n",
              "    .dataframe thead th {\n",
              "        text-align: right;\n",
              "    }\n",
              "</style>\n",
              "<table border=\"1\" class=\"dataframe\">\n",
              "  <thead>\n",
              "    <tr style=\"text-align: right;\">\n",
              "      <th></th>\n",
              "      <th>agree</th>\n",
              "      <th>disagree</th>\n",
              "      <th>total_votes</th>\n",
              "      <th>center</th>\n",
              "      <th>left</th>\n",
              "      <th>left-center</th>\n",
              "      <th>right</th>\n",
              "      <th>right-center</th>\n",
              "    </tr>\n",
              "  </thead>\n",
              "  <tbody>\n",
              "    <tr>\n",
              "      <th>0</th>\n",
              "      <td>11169</td>\n",
              "      <td>8200</td>\n",
              "      <td>19369</td>\n",
              "      <td>0</td>\n",
              "      <td>0</td>\n",
              "      <td>1</td>\n",
              "      <td>0</td>\n",
              "      <td>0</td>\n",
              "    </tr>\n",
              "    <tr>\n",
              "      <th>1</th>\n",
              "      <td>3225</td>\n",
              "      <td>4960</td>\n",
              "      <td>8185</td>\n",
              "      <td>1</td>\n",
              "      <td>0</td>\n",
              "      <td>0</td>\n",
              "      <td>0</td>\n",
              "      <td>0</td>\n",
              "    </tr>\n",
              "    <tr>\n",
              "      <th>2</th>\n",
              "      <td>3138</td>\n",
              "      <td>1209</td>\n",
              "      <td>4347</td>\n",
              "      <td>0</td>\n",
              "      <td>0</td>\n",
              "      <td>0</td>\n",
              "      <td>0</td>\n",
              "      <td>0</td>\n",
              "    </tr>\n",
              "    <tr>\n",
              "      <th>3</th>\n",
              "      <td>2032</td>\n",
              "      <td>1214</td>\n",
              "      <td>3246</td>\n",
              "      <td>0</td>\n",
              "      <td>0</td>\n",
              "      <td>0</td>\n",
              "      <td>0</td>\n",
              "      <td>0</td>\n",
              "    </tr>\n",
              "    <tr>\n",
              "      <th>4</th>\n",
              "      <td>2064</td>\n",
              "      <td>712</td>\n",
              "      <td>2776</td>\n",
              "      <td>0</td>\n",
              "      <td>1</td>\n",
              "      <td>0</td>\n",
              "      <td>0</td>\n",
              "      <td>0</td>\n",
              "    </tr>\n",
              "  </tbody>\n",
              "</table>\n",
              "</div>"
            ],
            "text/plain": [
              "   agree  disagree  total_votes  center  left  left-center  right  right-center\n",
              "0  11169      8200        19369       0     0            1      0             0\n",
              "1   3225      4960         8185       1     0            0      0             0\n",
              "2   3138      1209         4347       0     0            0      0             0\n",
              "3   2032      1214         3246       0     0            0      0             0\n",
              "4   2064       712         2776       0     1            0      0             0"
            ]
          },
          "metadata": {
            "tags": []
          },
          "execution_count": 277
        }
      ]
    },
    {
      "cell_type": "code",
      "metadata": {
        "id": "uSCpX4EE2ECA",
        "colab_type": "code",
        "colab": {}
      },
      "source": [
        "from sklearn.model_selection import train_test_split\n",
        "data_train, data_test, y_train, y_test = train_test_split(data, y, test_size=0.25, random_state=0)"
      ],
      "execution_count": 0,
      "outputs": []
    },
    {
      "cell_type": "code",
      "metadata": {
        "id": "LlS08kgu-5ij",
        "colab_type": "code",
        "colab": {
          "base_uri": "https://localhost:8080/",
          "height": 34
        },
        "outputId": "9b192271-2ded-4598-e78f-5065a7844e31"
      },
      "source": [
        "from sklearn.linear_model import LinearRegression\n",
        "regr = LinearRegression()\n",
        "regr.fit(data_train, y_train)"
      ],
      "execution_count": 279,
      "outputs": [
        {
          "output_type": "execute_result",
          "data": {
            "text/plain": [
              "LinearRegression(copy_X=True, fit_intercept=True, n_jobs=None, normalize=False)"
            ]
          },
          "metadata": {
            "tags": []
          },
          "execution_count": 279
        }
      ]
    },
    {
      "cell_type": "code",
      "metadata": {
        "id": "erkvvt21_XdJ",
        "colab_type": "code",
        "colab": {}
      },
      "source": [
        "y_prediction = regr.predict(data_test)"
      ],
      "execution_count": 0,
      "outputs": []
    },
    {
      "cell_type": "code",
      "metadata": {
        "id": "tpC1c3KA_mgL",
        "colab_type": "code",
        "colab": {
          "base_uri": "https://localhost:8080/",
          "height": 34
        },
        "outputId": "b47dde94-960f-44f4-9a82-7f7850a6e340"
      },
      "source": [
        "from sklearn.metrics import r2_score\n",
        "agree_score = r2_score(y_test, y_prediction)\n",
        "print(agree_score)"
      ],
      "execution_count": 281,
      "outputs": [
        {
          "output_type": "stream",
          "text": [
            "0.3384797735679903\n"
          ],
          "name": "stdout"
        }
      ]
    },
    {
      "cell_type": "markdown",
      "metadata": {
        "id": "Czg9Cd_gC7q_",
        "colab_type": "text"
      },
      "source": [
        "# Conclusion:"
      ]
    },
    {
      "cell_type": "markdown",
      "metadata": {
        "id": "asaIUujgBRsV",
        "colab_type": "text"
      },
      "source": [
        "### Since we are working on a social experiment, a low-Rsquare is expected. Which means that even if it seems that extreme biases are often highlighted by the public opinion easily, the model made in this article wasn't effective to predict the agreeance ratio, i. e. probably the contemporary concept of political bias are fuzzly since there's no metric on nationality or ethinics."
      ]
    }
  ]
}